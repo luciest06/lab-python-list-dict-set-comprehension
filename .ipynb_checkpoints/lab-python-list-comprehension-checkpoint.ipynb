{
 "cells": [
  {
   "cell_type": "markdown",
   "id": "25d7736c-ba17-4aff-b6bb-66eba20fbf4e",
   "metadata": {},
   "source": [
    "# Lab | List, Dict and Set Comprehension"
   ]
  },
  {
   "cell_type": "markdown",
   "id": "7dd3cbde-675a-4b81-92c3-f728846dbe06",
   "metadata": {},
   "source": [
    "## Exercise: Managing Customer Orders Optimized with Comprehension"
   ]
  },
  {
   "cell_type": "markdown",
   "id": "5d500160-2fb7-4777-b5e4-09d45ebaf328",
   "metadata": {},
   "source": [
    "In the previous exercise, you developed a program to manage customer orders and inventory. Now, let's take it a step further and incorporate comprehension into your code.\n",
    "\n",
    "Follow the steps below to complete the exercise:\n",
    "\n",
    "1. Review your code from the previous exercise and identify areas where you can apply comprehension to simplify and streamline your code. \n",
    "\n",
    "    - *Hint: Apply it to initialize inventory, updating the inventory and printing the updated inventory.*\n",
    "    \n",
    "    - For example, in initializing the inventory, we could have:\n",
    "    \n",
    "        ```python\n",
    "        def initialize_inventory(products):\n",
    "            inventory = {product: int(input(f\"Enter the quantity of {product}s available: \")) for product in products}\n",
    "            return inventory\n",
    "\n",
    "        ```\n",
    "<br>\n",
    "    \n",
    "    \n",
    "2. Modify the function get_customer_orders so it prompts the user to enter the number of customer orders and gathers the product names using a loop and user input. Use comprehension.\n",
    "\n",
    "3. Add a new function to calculate the total price of the customer order. For each product in customer_orders, prompt the user to enter the price of that product. Use comprehension to calculate the total price. Note: assume that the user can only have 1 unit of each product.\n",
    "\n",
    "4. Modify the update_inventory function to remove the product from the inventory if its quantity becomes zero after fulfilling the customer orders. Use comprehension to filter out the products with a quantity of zero from the inventory.\n",
    "\n",
    "5. Print the total price of the customer order.\n",
    "\n",
    "Your code should produce output similar to the following:\n",
    "\n",
    "```python\n",
    "Enter the quantity of t-shirts available:  5\n",
    "Enter the quantity of mugs available:  4\n",
    "Enter the quantity of hats available:  3\n",
    "Enter the quantity of books available:  2\n",
    "Enter the quantity of keychains available:  1\n",
    "Enter the number of customer orders:  2\n",
    "Enter the name of a product that a customer wants to order:  hat\n",
    "Enter the name of a product that a customer wants to order:  keychain\n",
    "\n",
    "Order Statistics:\n",
    "Total Products Ordered: 2\n",
    "Percentage of Unique Products Ordered: 40.0\n",
    "\n",
    "Updated Inventory:\n",
    "t-shirt: 5\n",
    "mug: 4\n",
    "hat: 2\n",
    "book: 2\n",
    "Enter the price of keychain:  5\n",
    "Enter the price of hat:  10\n",
    "Total Price: 15.0\n",
    "\n",
    "```\n"
   ]
  },
  {
   "cell_type": "code",
   "execution_count": 166,
   "id": "688f8f8e-3c4c-4764-bb26-29ef0ded771b",
   "metadata": {},
   "outputs": [
    {
     "name": "stdin",
     "output_type": "stream",
     "text": [
      "Enter the quantity of t-shirts available:  5\n",
      "Enter the quantity of mugs available:  4\n",
      "Enter the quantity of hats available:  3\n",
      "Enter the quantity of books available:  2\n",
      "Enter the quantity of keychains available:  1\n"
     ]
    },
    {
     "name": "stdout",
     "output_type": "stream",
     "text": [
      "Updated Inventory:\n",
      "t-shirt: 34\n",
      "mug: 2\n",
      "hat: 44\n",
      "book: 55\n",
      "keychain: 12\n"
     ]
    }
   ],
   "source": [
    "#1\n",
    "\n",
    "products=[\"t-shirt\",\"mug\",\"hat\",\"book\",\"keychain\"]\n",
    "\n",
    "def initialize_inventory(products):\n",
    "    \"\"\"initializing the inventory dictionary\"\"\"\n",
    "    inventory = {i: int(input(f\"Enter the quantity of {i}s available: \")) for i in products}\n",
    "    return inventory\n",
    "\n",
    "def update_inventory(customer_orders, inventory):\n",
    "    updated_inventory = {product:inventory[product]-1 if product in customer_orders else inventory[product] for product in inventory}\n",
    "    return updated_inventory\n",
    "    \n",
    "def print_updated_inventory(updated_inventory):    \n",
    "    print(\"Updated Inventory:\")\n",
    "    [print(f\"{product}: {quantity}\") for product, quantity in updated_inventory.items()]\n",
    "\n",
    "initialize_inventory(products)\n",
    "update_inventory(customer_orders, inventory)\n",
    "print_updated_inventory(updated_inventory)"
   ]
  },
  {
   "cell_type": "code",
   "execution_count": 174,
   "id": "c79f8e53-8118-4393-8087-dee5e68101c4",
   "metadata": {},
   "outputs": [
    {
     "name": "stdin",
     "output_type": "stream",
     "text": [
      "Please enter how many t-shirts you wish to order 0\n",
      "Please enter how many mugs you wish to order 0\n",
      "Please enter how many hats you wish to order 1\n",
      "Please enter how many books you wish to order 01\n",
      "Please enter how many keychains you wish to order 1\n"
     ]
    },
    {
     "name": "stdout",
     "output_type": "stream",
     "text": [
      "{'hat', 'book'}\n"
     ]
    }
   ],
   "source": [
    "#2\n",
    "\n",
    "\n",
    "#def get_customer_orders():\n",
    "#    customer_orders={}\n",
    "#    for product in products:\n",
    "#        customer_orders[product]=int(input(f\"Please enter how many {product}s you wish to order\"))\n",
    "#    return customer_orders\n",
    "\n",
    "def get_customer_orders():\n",
    "    customer_orders={product:int(input(f\"Please enter how many {product}s you wish to order\")) for product in products}\n",
    "\n",
    "get_customer_orders()\n",
    "print(customer_orders)"
   ]
  },
  {
   "cell_type": "code",
   "execution_count": 201,
   "id": "e0b75e48-6132-4626-b3fb-49b7b29953b3",
   "metadata": {},
   "outputs": [
    {
     "name": "stdin",
     "output_type": "stream",
     "text": [
      "Please enter the price of the hat 10\n",
      "Please enter the price of the keychain 5\n"
     ]
    },
    {
     "name": "stdout",
     "output_type": "stream",
     "text": [
      "Total Price: 15.0\n"
     ]
    },
    {
     "data": {
      "text/plain": [
       "15"
      ]
     },
     "execution_count": 201,
     "metadata": {},
     "output_type": "execute_result"
    }
   ],
   "source": [
    "#3\n",
    "\n",
    "from functools import reduce\n",
    "\n",
    "def total_price_order():\n",
    "    price={}\n",
    "    for i in customer_orders:\n",
    "        price[i]=int(input(f\"Please enter the price of the {i}\"))\n",
    "    total_price=reduce(lambda x,y:x+y,price.values())\n",
    "    print(\"Total Price:\", float(total_price))\n",
    "    return total_price\n",
    "\n",
    "\n",
    "total_price_order()\n",
    "    "
   ]
  },
  {
   "cell_type": "code",
   "execution_count": 185,
   "id": "b709f410-8bda-4253-885c-914c85b6efd1",
   "metadata": {},
   "outputs": [
    {
     "data": {
      "text/plain": [
       "{'t-shirt': 5, 'mug': 4, 'hat': 2, 'book': 2}"
      ]
     },
     "execution_count": 185,
     "metadata": {},
     "output_type": "execute_result"
    }
   ],
   "source": [
    "#4\n",
    "\n",
    "inventory={'t-shirt': 5, 'mug': 4, 'hat': 3, 'book': 2, 'keychain': 1}\n",
    "customer_orders={'hat','keychain'}\n",
    "\n",
    "def update_inventory(customer_orders, inventory):\n",
    "    updated_inventory = {product:inventory[product]-1 if product in customer_orders else inventory[product] for product in inventory}\n",
    "    updated_inventory = {product:quantity for product,quantity in updated_inventory.items() if quantity>0}\n",
    "    return updated_inventory\n",
    "\n",
    "update_inventory(customer_orders, inventory)"
   ]
  },
  {
   "cell_type": "code",
   "execution_count": 203,
   "id": "aeb1d0e9-b2ae-480f-98e9-9904e72e34d0",
   "metadata": {},
   "outputs": [
    {
     "name": "stdin",
     "output_type": "stream",
     "text": [
      "Enter the quantity of t-shirts available:  5\n",
      "Enter the quantity of mugs available:  4\n",
      "Enter the quantity of hats available:  3\n",
      "Enter the quantity of books available:  2\n",
      "Enter the quantity of keychains available:  1\n",
      "Please enter how many t-shirts you wish to order 0\n",
      "Please enter how many mugs you wish to order 0\n",
      "Please enter how many hats you wish to order 1\n",
      "Please enter how many books you wish to order 0\n",
      "Please enter how many keychains you wish to order 1\n"
     ]
    },
    {
     "name": "stdout",
     "output_type": "stream",
     "text": [
      " \n",
      " \n",
      "Order Statistics:\n",
      "Total Products Ordered: 2\n",
      "Percentage of Products Ordered: 40.0%\n",
      " \n",
      "Updated Inventory:\n",
      "t-shirt: 5\n",
      "mug: 4\n",
      "hat: 2\n",
      "book: 2\n"
     ]
    },
    {
     "name": "stdin",
     "output_type": "stream",
     "text": [
      "Please enter the price of the hat 10\n",
      "Please enter the price of the keychain 5\n"
     ]
    },
    {
     "name": "stdout",
     "output_type": "stream",
     "text": [
      "Total Price: 15.0\n"
     ]
    },
    {
     "data": {
      "text/plain": [
       "15"
      ]
     },
     "execution_count": 203,
     "metadata": {},
     "output_type": "execute_result"
    }
   ],
   "source": [
    "#5\n",
    "\n",
    "\n",
    "\n",
    "def print_order_statistics(order_statistics):\n",
    "    total_products_ordered, percentage_products_ordered = order_statistics\n",
    "    print(\"Order Statistics:\")\n",
    "    print(f\"Total Products Ordered: {total_products_ordered}\")\n",
    "    print(f\"Percentage of Products Ordered: {percentage_products_ordered}%\")\n",
    "\n",
    "def calculate_order_statistics(customer_orders, products):\n",
    "    total_products_ordered = len(customer_orders)\n",
    "    total_unique_products = len(products)\n",
    "    percentage_products_ordered = (total_products_ordered / total_unique_products) * 100\n",
    "    order_status = (total_products_ordered, percentage_products_ordered)\n",
    "    return order_status\n",
    "\n",
    "products = [\"t-shirt\", \"mug\", \"hat\", \"book\", \"keychain\"]\n",
    "inventory = initialize_inventory(products)\n",
    "customer_orders = get_customer_orders()\n",
    "print(\" \")\n",
    "inventory={'t-shirt': 5, 'mug': 4, 'hat': 3, 'book': 2, 'keychain': 1}\n",
    "customer_orders={'hat','keychain'}\n",
    "inventory = update_inventory(customer_orders, inventory)\n",
    "order_statistics = calculate_order_statistics(customer_orders, products)\n",
    "print(\" \")\n",
    "print_order_statistics(order_statistics)\n",
    "print(\" \")\n",
    "print_updated_inventory(inventory)\n",
    "total_price_order()"
   ]
  },
  {
   "cell_type": "code",
   "execution_count": null,
   "id": "a065ef7e-69f9-49e1-8039-ea22dc6abdaf",
   "metadata": {},
   "outputs": [],
   "source": []
  }
 ],
 "metadata": {
  "kernelspec": {
   "display_name": "Python 3 (ipykernel)",
   "language": "python",
   "name": "python3"
  },
  "language_info": {
   "codemirror_mode": {
    "name": "ipython",
    "version": 3
   },
   "file_extension": ".py",
   "mimetype": "text/x-python",
   "name": "python",
   "nbconvert_exporter": "python",
   "pygments_lexer": "ipython3",
   "version": "3.12.4"
  }
 },
 "nbformat": 4,
 "nbformat_minor": 5
}
